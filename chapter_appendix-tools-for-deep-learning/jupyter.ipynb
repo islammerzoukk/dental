{
  "cells": [
    {
      "cell_type": "code",
      "source": [
        "my_str =\"hey Ǵ  islam\""
      ],
      "metadata": {
        "id": "xwp_-mfAIsth"
      },
      "id": "xwp_-mfAIsth",
      "execution_count": 29,
      "outputs": []
    },
    {
      "cell_type": "code",
      "source": [
        "chr(500)"
      ],
      "metadata": {
        "id": "DQkDEQzLMDS0",
        "outputId": "739a2224-d69d-426f-d471-1da90af190c6",
        "colab": {
          "base_uri": "https://localhost:8080/",
          "height": 36
        }
      },
      "id": "DQkDEQzLMDS0",
      "execution_count": 19,
      "outputs": [
        {
          "output_type": "execute_result",
          "data": {
            "text/plain": [
              "'Ǵ'"
            ],
            "application/vnd.google.colaboratory.intrinsic+json": {
              "type": "string"
            }
          },
          "metadata": {},
          "execution_count": 19
        }
      ]
    },
    {
      "cell_type": "code",
      "source": [
        "def isNonASCII(my_str):\n",
        "  for i in my_str:\n",
        "    if(ord(i)>128):\n",
        "      return True\n",
        "\n",
        "  return False\n",
        "\n",
        "print(isNonASCII(my_str))"
      ],
      "metadata": {
        "id": "ayc6HoF-KGUE"
      },
      "id": "ayc6HoF-KGUE",
      "execution_count": null,
      "outputs": []
    }
  ],
  "metadata": {
    "kernelspec": {
      "display_name": "Python 3",
      "name": "python3"
    },
    "language_info": {
      "name": "python"
    },
    "required_libs": [],
    "colab": {
      "provenance": []
    }
  },
  "nbformat": 4,
  "nbformat_minor": 5
}